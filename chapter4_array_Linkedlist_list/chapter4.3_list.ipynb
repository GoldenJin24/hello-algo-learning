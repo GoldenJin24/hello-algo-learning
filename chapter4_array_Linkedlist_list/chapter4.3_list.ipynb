{
 "cells": [
  {
   "cell_type": "markdown",
   "metadata": {},
   "source": [
    "# 列表\n",
    "- 元素的有序集合，增删改查，不用考虑大小\n",
    "- 可以由数组或者链表实现（数组可以看作是长度受限制的列表，链表可以看作是列表）\n",
    "- 值得注意的是动态数组也可以看作列表，下面动态数组和列表视为一样（python的list就是基于动态数组实现的）"
   ]
  },
  {
   "cell_type": "code",
   "execution_count": 1,
   "metadata": {},
   "outputs": [],
   "source": [
    "#1.初始化\n",
    "nums1 = []\n",
    "nums2 = [1,2,3,4,5]"
   ]
  },
  {
   "cell_type": "code",
   "execution_count": 7,
   "metadata": {},
   "outputs": [
    {
     "name": "stdout",
     "output_type": "stream",
     "text": [
      "2 4\n"
     ]
    }
   ],
   "source": [
    "#2.访问\n",
    "print(nums2[1],nums2[3])"
   ]
  },
  {
   "cell_type": "code",
   "execution_count": null,
   "metadata": {},
   "outputs": [],
   "source": [
    "#3.插入与删除\n",
    "\n",
    "#3.1清空\n",
    "nums2.clear()\n",
    "#3.2删除，时间复杂度高，最好少用\n",
    "nums2.pop(0)\n",
    "#3.3插入   第一个是索引，第二个是要插入的元素   时间复杂度高，最好少用\n",
    "nums2.insert(3,6)\n",
    "#3.4尾部增加,时间复杂度很低，最好多用\n",
    "nums2.append(1111)"
   ]
  },
  {
   "cell_type": "code",
   "execution_count": 8,
   "metadata": {},
   "outputs": [
    {
     "name": "stdout",
     "output_type": "stream",
     "text": [
      "0 1\n",
      "1 2\n",
      "2 3\n",
      "3 4\n",
      "4 5\n"
     ]
    }
   ],
   "source": [
    "#4.遍历\n",
    "for index,value in enumerate(nums2):\n",
    "    print(index,value)"
   ]
  },
  {
   "cell_type": "code",
   "execution_count": 10,
   "metadata": {},
   "outputs": [
    {
     "name": "stdout",
     "output_type": "stream",
     "text": [
      "[1, 3, 5, 7] [2, 4, 6, 8, [100, 200]]\n"
     ]
    },
    {
     "data": {
      "text/plain": [
       "[1, 3, 5, 7, 2, 4, 6, 8, [100, 200]]"
      ]
     },
     "execution_count": 10,
     "metadata": {},
     "output_type": "execute_result"
    }
   ],
   "source": [
    "#5.拼接  直接加就可以\n",
    "nums2 = [1,3,5,7]\n",
    "nums3 = [2,4,6,8,[100,200]]\n",
    "print(nums2,nums3)\n",
    "nums2+nums3 "
   ]
  },
  {
   "cell_type": "code",
   "execution_count": 13,
   "metadata": {},
   "outputs": [
    {
     "name": "stdout",
     "output_type": "stream",
     "text": [
      "[1, 2, 3, 4, 5, 6, 7, 8, 9]\n",
      "[1, 2, 3, 4, 5, 6, 7, 8, 9, 10, 11, 12, 13]\n"
     ]
    }
   ],
   "source": [
    "#补充，嵌套的列表全部拼接在一起，将列表内部的列表全部打开，要求单个元素\n",
    "def flatten_list(nested_list):\n",
    "    result = []\n",
    "    for item in nested_list:\n",
    "        if isinstance(item, list):\n",
    "            result.extend(flatten_list(item))\n",
    "        else:\n",
    "            result.append(item)\n",
    "    return result\n",
    "\n",
    "nested_list = [[1, 2, [3, 4]], [5, [6, 7]], 8, [9]]\n",
    "flattened_list = flatten_list(nested_list)\n",
    "print(flattened_list)\n",
    "\n",
    "#或者要求输入的是列表\n",
    "def flatten_and_merge(*args):\n",
    "    def flatten_list(nested_list):\n",
    "        result = []\n",
    "        for item in nested_list:\n",
    "            if isinstance(item, list):\n",
    "                result.extend(flatten_list(item))\n",
    "            else:\n",
    "                result.append(item)\n",
    "        return result\n",
    "\n",
    "    merged_list = []\n",
    "    for lst in args:\n",
    "        merged_list.extend(lst)\n",
    "\n",
    "    flattened_list = flatten_list(merged_list)\n",
    "    return flattened_list\n",
    "# 四个列表\n",
    "list1 = [1, [2, 3], 4]\n",
    "list2 = [5, [6, 7]]\n",
    "list3 = [[8, 9], 10]\n",
    "list4 = [11, [12, 13]]\n",
    "\n",
    "result = flatten_and_merge(list1, list2, list3, list4)\n",
    "print(result)\n",
    "\n"
   ]
  },
  {
   "cell_type": "code",
   "execution_count": 22,
   "metadata": {},
   "outputs": [
    {
     "name": "stdout",
     "output_type": "stream",
     "text": [
      "[1, 3, 5, 7] None [1, 3, 5, 7]\n",
      "['123', 'Google', 'Runoob', 'Taobao', 'Facebook']\n",
      "['123', 'Facebook', 'Google', 'Runoob', 'Taobao']\n"
     ]
    }
   ],
   "source": [
    "#6.排序数组，常用的二分查找和双指针算法\n",
    "#警告：在Python中，list.sort() 方法会对列表进行原地排序，并返回None。感觉有点奇怪\n",
    "print( nums2,nums2.sort(),nums2 )\n",
    "#\n",
    "aList = ['123', 'Google', 'Runoob', 'Taobao', 'Facebook'];\n",
    "print(aList)\n",
    "aList.sort()\n",
    "print(aList)"
   ]
  },
  {
   "cell_type": "code",
   "execution_count": null,
   "metadata": {},
   "outputs": [],
   "source": [
    "## 自己实现列表\n",
    "#如何实现自动扩容？->只在add的时候调用\n",
    "class Mylist():\n",
    "    def __init__(self,size=10):\n",
    "        self.size = size\n",
    "        self.flag = size\n",
    "\n",
    "    def enlarge(self):\n",
    "        if flag >= size:\n",
    "            self.size = 2 * self.size\n",
    "\n",
    "Mylist(10)\n",
    "\n",
    "#参考答案\n",
    "class MyList:\n",
    "    \"\"\"列表类\"\"\"\n",
    "\n",
    "    def __init__(self):\n",
    "        \"\"\"构造方法\"\"\"\n",
    "        self._capacity: int = 10  # 列表容量\n",
    "        self._arr: list[int] = [0] * self._capacity  # 数组（存储列表元素）\n",
    "        self._size: int = 0  # 列表长度（当前元素数量）\n",
    "        self._extend_ratio: int = 2  # 每次列表扩容的倍数\n",
    "\n",
    "    def size(self) -> int:\n",
    "        \"\"\"获取列表长度（当前元素数量）\"\"\"\n",
    "        return self._size\n",
    "\n",
    "    def capacity(self) -> int:\n",
    "        \"\"\"获取列表容量\"\"\"\n",
    "        return self._capacity\n",
    "\n",
    "    def get(self, index: int) -> int:\n",
    "        \"\"\"访问元素\"\"\"\n",
    "        # 索引如果越界，则抛出异常，下同\n",
    "        if index < 0 or index >= self._size:\n",
    "            raise IndexError(\"索引越界\")\n",
    "        return self._arr[index]\n",
    "\n",
    "    def set(self, num: int, index: int):\n",
    "        \"\"\"更新元素\"\"\"\n",
    "        if index < 0 or index >= self._size:\n",
    "            raise IndexError(\"索引越界\")\n",
    "        self._arr[index] = num\n",
    "\n",
    "    def add(self, num: int):\n",
    "        \"\"\"在尾部添加元素\"\"\"\n",
    "        # 元素数量超出容量时，触发扩容机制\n",
    "        if self.size() == self.capacity():\n",
    "            self.extend_capacity()\n",
    "        self._arr[self._size] = num\n",
    "        self._size += 1\n",
    "\n",
    "    def insert(self, num: int, index: int):\n",
    "        \"\"\"在中间插入元素\"\"\"\n",
    "        if index < 0 or index >= self._size:\n",
    "            raise IndexError(\"索引越界\")\n",
    "        # 元素数量超出容量时，触发扩容机制\n",
    "        if self._size == self.capacity():\n",
    "            self.extend_capacity()\n",
    "        # 将索引 index 以及之后的元素都向后移动一位\n",
    "        for j in range(self._size - 1, index - 1, -1):\n",
    "            self._arr[j + 1] = self._arr[j]\n",
    "        self._arr[index] = num\n",
    "        # 更新元素数量\n",
    "        self._size += 1\n",
    "\n",
    "    def remove(self, index: int) -> int:\n",
    "        \"\"\"删除元素\"\"\"\n",
    "        if index < 0 or index >= self._size:\n",
    "            raise IndexError(\"索引越界\")\n",
    "        num = self._arr[index]\n",
    "        # 将索引 index 之后的元素都向前移动一位\n",
    "        for j in range(index, self._size - 1):\n",
    "            self._arr[j] = self._arr[j + 1]\n",
    "        # 更新元素数量\n",
    "        self._size -= 1\n",
    "        # 返回被删除的元素\n",
    "        return num\n",
    "\n",
    "    def extend_capacity(self):\n",
    "        \"\"\"列表扩容\"\"\"\n",
    "        # 新建一个长度为原数组 _extend_ratio 倍的新数组，并将原数组复制到新数组\n",
    "        self._arr = self._arr + [0] * self.capacity() * (self._extend_ratio - 1)\n",
    "        # 更新列表容量\n",
    "        self._capacity = len(self._arr)\n",
    "\n",
    "    def to_array(self) -> list[int]:\n",
    "        \"\"\"返回有效长度的列表\"\"\"\n",
    "        return self._arr[: self._size]"
   ]
  }
 ],
 "metadata": {
  "kernelspec": {
   "display_name": "Python 3",
   "language": "python",
   "name": "python3"
  },
  "language_info": {
   "codemirror_mode": {
    "name": "ipython",
    "version": 3
   },
   "file_extension": ".py",
   "mimetype": "text/x-python",
   "name": "python",
   "nbconvert_exporter": "python",
   "pygments_lexer": "ipython3",
   "version": "3.9.6"
  }
 },
 "nbformat": 4,
 "nbformat_minor": 2
}
