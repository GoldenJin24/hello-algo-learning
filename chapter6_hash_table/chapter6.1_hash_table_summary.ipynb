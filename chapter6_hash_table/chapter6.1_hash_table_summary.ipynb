{
 "cells": [
  {
   "cell_type": "markdown",
   "metadata": {},
   "source": [
    "# 哈希表\n",
    "- 又称散列表，通过建立key-value之间的映射，高效查询\n",
    "- 哈希表，数组，链表的比较\n",
    "   \n",
    "   ![alt text](image.png)\n",
    "- 哈希函数的作用是将一个较大的输入空间映射到一个较小的输出空间\n",
    "- "
   ]
  },
  {
   "cell_type": "code",
   "execution_count": 5,
   "metadata": {},
   "outputs": [
    {
     "name": "stdout",
     "output_type": "stream",
     "text": [
      "900\n",
      "删除之后的hmap是 {'张三': 1000, 'lisi': 800}\n"
     ]
    }
   ],
   "source": [
    "#1.初始化\n",
    "hmap = {}\n",
    "#2.添加\n",
    "hmap['张三'] = 1000\n",
    "hmap['peter'] = 900\n",
    "hmap['lisi'] = 800\n",
    "#3.查询\n",
    "print(hmap['peter'])\n",
    "#4.删除\n",
    "hmap.pop('peter')\n",
    "print('删除之后的hmap是',hmap)"
   ]
  },
  {
   "cell_type": "code",
   "execution_count": 8,
   "metadata": {},
   "outputs": [
    {
     "name": "stdout",
     "output_type": "stream",
     "text": [
      "张三 1000\n",
      "lisi 800\n",
      "张三\n",
      "lisi\n",
      "1000\n",
      "800\n"
     ]
    }
   ],
   "source": [
    "#5.常用的三种遍历方式，遍历键值对，遍历键，遍历值\n",
    "for key,value in hmap.items():\n",
    "    print(key,value)\n",
    "for key in hmap.keys():\n",
    "    print(key)\n",
    "for value in hmap.values():\n",
    "    print(value)"
   ]
  },
  {
   "cell_type": "markdown",
   "metadata": {},
   "source": [
    "## 简单实现\n",
    "- 通过一个数组实现hash table\n",
    "- 示意图如下\n",
    "   ![alt text](image-1.png)\n",
    "- "
   ]
  },
  {
   "cell_type": "code",
   "execution_count": 17,
   "metadata": {},
   "outputs": [
    {
     "ename": "IndexError",
     "evalue": "list index out of range",
     "output_type": "error",
     "traceback": [
      "\u001b[1;31m---------------------------------------------------------------------------\u001b[0m",
      "\u001b[1;31mIndexError\u001b[0m                                Traceback (most recent call last)",
      "Cell \u001b[1;32mIn[17], line 20\u001b[0m\n\u001b[0;32m     18\u001b[0m test1\u001b[38;5;241m.\u001b[39mappend(Pair(\u001b[38;5;124m'\u001b[39m\u001b[38;5;124mzhangsan\u001b[39m\u001b[38;5;124m'\u001b[39m,\u001b[38;5;241m100\u001b[39m))\n\u001b[0;32m     19\u001b[0m test1\u001b[38;5;241m.\u001b[39mappend(Pair(\u001b[38;5;124m'\u001b[39m\u001b[38;5;124mlisi\u001b[39m\u001b[38;5;124m'\u001b[39m,\u001b[38;5;241m10000\u001b[39m))\n\u001b[1;32m---> 20\u001b[0m \u001b[43mtest1\u001b[49m\u001b[38;5;241;43m.\u001b[39;49m\u001b[43mget\u001b[49m\u001b[43m(\u001b[49m\u001b[38;5;241;43m2\u001b[39;49m\u001b[43m)\u001b[49m\n",
      "Cell \u001b[1;32mIn[17], line 15\u001b[0m, in \u001b[0;36mArrayHashTable.get\u001b[1;34m(self, key)\u001b[0m\n\u001b[0;32m     12\u001b[0m \u001b[38;5;28;01mdef\u001b[39;00m \u001b[38;5;21mget\u001b[39m(\u001b[38;5;28mself\u001b[39m,key):\n\u001b[0;32m     13\u001b[0m     \u001b[38;5;66;03m#hash函数\u001b[39;00m\n\u001b[0;32m     14\u001b[0m     index \u001b[38;5;241m=\u001b[39m key \u001b[38;5;241m%\u001b[39m \u001b[38;5;28mself\u001b[39m\u001b[38;5;241m.\u001b[39mcapacity\n\u001b[1;32m---> 15\u001b[0m     \u001b[38;5;28;01mreturn\u001b[39;00m \u001b[38;5;28;43mself\u001b[39;49m\u001b[38;5;241;43m.\u001b[39;49m\u001b[43m_nums\u001b[49m\u001b[43m[\u001b[49m\u001b[43mindex\u001b[49m\u001b[43m]\u001b[49m\u001b[38;5;241m.\u001b[39mvalue\n",
      "\u001b[1;31mIndexError\u001b[0m: list index out of range"
     ]
    }
   ],
   "source": [
    "class Pair():\n",
    "    def __init__(self,key,value):\n",
    "        self.key = key\n",
    "        self.value = value\n",
    "\n",
    "class ArrayHashTable():\n",
    "    def __init__(self):\n",
    "        self._nums = []\n",
    "        self.capacity = 1000\n",
    "    def append(self,Pair1):\n",
    "        self._nums.append(Pair1)\n",
    "    def get(self,key):\n",
    "        #hash函数\n",
    "        index = key % self.capacity\n",
    "        return self._nums[index].value\n",
    "\n",
    "test1 = ArrayHashTable()\n",
    "test1.append(Pair('zhangsan',100))\n",
    "test1.append(Pair('lisi',10000))\n",
    "test1.get(2)"
   ]
  },
  {
   "cell_type": "code",
   "execution_count": null,
   "metadata": {},
   "outputs": [],
   "source": [
    "#标准答案\n",
    "class Pair:\n",
    "    \"\"\"键值对\"\"\"\n",
    "\n",
    "    def __init__(self, key: int, val: str):\n",
    "        self.key = key\n",
    "        self.val = val\n",
    "\n",
    "class ArrayHashMap:\n",
    "    \"\"\"基于数组实现的哈希表\"\"\"\n",
    "\n",
    "    def __init__(self):\n",
    "        \"\"\"构造方法\"\"\"\n",
    "        # 初始化数组，包含 100 个桶,初始化固定长度\n",
    "        self.buckets: list[Pair | None] = [None] * 100\n",
    "\n",
    "    def hash_func(self, key: int) -> int:\n",
    "        \"\"\"哈希函数\"\"\"\n",
    "        index = key % 100\n",
    "        return index\n",
    "\n",
    "    def get(self, key: int) -> str:\n",
    "        \"\"\"查询操作\"\"\"\n",
    "        index: int = self.hash_func(key)\n",
    "        pair: Pair = self.buckets[index]\n",
    "        if pair is None:\n",
    "            return None\n",
    "        return pair.val\n",
    "\n",
    "    def put(self, key: int, val: str):\n",
    "        \"\"\"添加操作\"\"\"\n",
    "        pair = Pair(key, val)\n",
    "        index: int = self.hash_func(key)\n",
    "        self.buckets[index] = pair\n",
    "\n",
    "    def remove(self, key: int):\n",
    "        \"\"\"删除操作\"\"\"\n",
    "        index: int = self.hash_func(key)\n",
    "        # 置为 None ，代表删除\n",
    "        self.buckets[index] = None\n",
    "\n",
    "    def entry_set(self) -> list[Pair]:\n",
    "        \"\"\"获取所有键值对\"\"\"\n",
    "        result: list[Pair] = []\n",
    "        for pair in self.buckets:\n",
    "            if pair is not None:\n",
    "                result.append(pair)\n",
    "        return result\n",
    "\n",
    "    def key_set(self) -> list[int]:\n",
    "        \"\"\"获取所有键\"\"\"\n",
    "        result = []\n",
    "        for pair in self.buckets:\n",
    "            if pair is not None:\n",
    "                result.append(pair.key)\n",
    "        return result\n",
    "\n",
    "    def value_set(self) -> list[str]:\n",
    "        \"\"\"获取所有值\"\"\"\n",
    "        result = []\n",
    "        for pair in self.buckets:\n",
    "            if pair is not None:\n",
    "                result.append(pair.val)\n",
    "        return result\n",
    "\n",
    "    def print(self):\n",
    "        \"\"\"打印哈希表\"\"\"\n",
    "        for pair in self.buckets:\n",
    "            if pair is not None:\n",
    "                print(pair.key, \"->\", pair.val)"
   ]
  },
  {
   "cell_type": "markdown",
   "metadata": {},
   "source": [
    "## 哈希冲突\n",
    "- 多个输入key，经过哈希函数后得到一个输出index\n",
    "- 容易想到，哈希表容量n越大，多个key被分配到同一个桶中的概率就越低，冲突就越少。因此，我们可以通过扩容哈希表来减少哈希冲突\n",
    "- 类似于数组扩容，哈希表扩容需将所有键值对从原哈希表迁移至新哈希表，非常耗时；并且由于哈希表容量 capacity 改变，我们需要通过哈希函数来重新计算所有键值对的存储位置，这进一步增加了扩容过程的计算开销。为此，编程语言通常会预留足够大的哈希表容量，防止频繁扩容\n",
    "- 负载因子（load factor）是哈希表的一个重要概念，其定义为哈希表的元素数量除以桶数量，用于衡量哈希冲突的严重程度，也常作为哈希表扩容的触发条件。例如在 Java 中，当负载因子超过0.75时，系统会将哈希表扩容至原先的2倍。"
   ]
  }
 ],
 "metadata": {
  "kernelspec": {
   "display_name": "Python 3",
   "language": "python",
   "name": "python3"
  },
  "language_info": {
   "codemirror_mode": {
    "name": "ipython",
    "version": 3
   },
   "file_extension": ".py",
   "mimetype": "text/x-python",
   "name": "python",
   "nbconvert_exporter": "python",
   "pygments_lexer": "ipython3",
   "version": "3.9.6"
  }
 },
 "nbformat": 4,
 "nbformat_minor": 2
}
