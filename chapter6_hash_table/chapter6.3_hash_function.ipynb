{
 "cells": [
  {
   "cell_type": "markdown",
   "metadata": {},
   "source": [
    "# 哈希算法\n",
    "- 为了实现“既快又稳”的哈希表数据结构，哈希算法应具备以下特点。\n",
    "  - 确定性：对于相同的输入，哈希算法应始终产生相同的输出。这样才能确保哈希表是可靠的。（当然，函数的输入输出应有明确规则）\n",
    "  - 效率高：计算哈希值的过程应该足够快。计算开销越小，哈希表的实用性越高。\n",
    "  - 均匀分布：哈希算法应使得键值对均匀分布在哈希表中。分布越均匀，哈希冲突的概率就越低。（非常重要！）（关键的关键！）\n",
    "- 密码学和数据完整性等领域也有应用\n",
    "  - 单向性：无法通过哈希值反推出关于输入数据的任何信息。\n",
    "  - 抗碰撞性：应当极难找到两个不同的输入，使得它们的哈希值相同。（如果只是对100求余数的非常容易猜出来101-1，11-1）\n",
    "  - 雪崩效应：输入的微小变化应当导致输出的显著且不可预测的变化。  "
   ]
  },
  {
   "cell_type": "code",
   "execution_count": null,
   "metadata": {},
   "outputs": [],
   "source": [
    "#常见的4种哈希算法\n",
    "#加法哈希：对输入的每个字符的 ASCII 码进行相加，将得到的总和作为哈希值。\n",
    "#乘法哈希：利用乘法的不相关性，每轮乘以一个常数，将各个字符的 ASCII 码累积到哈希值中。\n",
    "#异或哈希：将输入数据的每个元素通过异或操作累积到一个哈希值中。\n",
    "#旋转哈希：将每个字符的 ASCII 码累积到一个哈希值中，每次累积之前都会对哈希值进行旋转操作。\n",
    "def add_hash(key: str) -> int:\n",
    "    \"\"\"加法哈希\"\"\"\n",
    "    hash = 0\n",
    "    modulus = 1000000007\n",
    "    for c in key:\n",
    "        hash += ord(c)\n",
    "    return hash % modulus\n",
    "\n",
    "def mul_hash(key: str) -> int:\n",
    "    \"\"\"乘法哈希\"\"\"\n",
    "    hash = 0\n",
    "    modulus = 1000000007\n",
    "    for c in key:\n",
    "        hash = 31 * hash + ord(c)\n",
    "    return hash % modulus\n",
    "\n",
    "def xor_hash(key: str) -> int:\n",
    "    \"\"\"异或哈希\"\"\"\n",
    "    hash = 0\n",
    "    modulus = 1000000007\n",
    "    for c in key:\n",
    "        hash ^= ord(c)\n",
    "    return hash % modulus\n",
    "\n",
    "def rot_hash(key: str) -> int:\n",
    "    \"\"\"旋转哈希\"\"\"\n",
    "    hash = 0\n",
    "    modulus = 1000000007\n",
    "    for c in key:\n",
    "        hash = (hash << 4) ^ (hash >> 28) ^ ord(c)\n",
    "    return hash % modulus\n",
    "\n",
    "#为什么最后有一个对大质数1000000007取模？\n",
    "#因为保证非均匀分布（如果是9，那么如果key是3的倍数0，3，6，9，12---，则容易出现hash值是0，3，6，0，3，6---加剧了哈希冲突）"
   ]
  },
  {
   "cell_type": "markdown",
   "metadata": {},
   "source": [
    "# 常见应用中的哈希算法\n",
    "- 例如 MD5、SHA-1、SHA-2 和 SHA-3 等\n",
    "- MD5 和 SHA-1 已多次被成功攻击，因此它们被各类安全应用弃用。（不安全了）\n",
    "- SHA-2 系列中的 SHA-256 是最安全的哈希算法之一，仍未出现成功的攻击案例，因此常用在各类安全应用与协议中。（好用）\n",
    "- SHA-3 相较 SHA-2 的实现开销更低、计算效率更高，但目前使用覆盖度不如 SHA-2 系列。（更新版，更好用）\n",
    "![alt text](image-3.png)\n",
    "（黑客和数据安全学家的战斗）"
   ]
  },
  {
   "cell_type": "code",
   "execution_count": 5,
   "metadata": {},
   "outputs": [
    {
     "data": {
      "text/plain": [
       "(3, 1, 326484311674566659, -6430571693207479666, 1731989157509514616)"
      ]
     },
     "execution_count": 5,
     "metadata": {},
     "output_type": "execute_result"
    }
   ],
   "source": [
    "#常见的数据结构的hash值\n",
    "num = 3\n",
    "hash_num = hash(num)\n",
    "# 整数 3 的哈希值为 3\n",
    "\n",
    "bol = True\n",
    "hash_bol = hash(bol)\n",
    "# 布尔量 True 的哈希值为 1\n",
    "\n",
    "dec = 3.14159\n",
    "hash_dec = hash(dec)\n",
    "# 小数 3.14159 的哈希值为 326484311674566659\n",
    "\n",
    "str = \"Hello 算法\"\n",
    "hash_str = hash(str)\n",
    "# 字符串“Hello 算法”的哈希值为 4617003410720528961\n",
    "\n",
    "tup = (12836, \"小哈\")\n",
    "hash_tup = hash(tup)\n",
    "# 元组 (12836, '小哈') 的哈希值为 1029005403108185979\n",
    "\n",
    "hash_num,hash_bol ,hash_dec ,hash_str ,hash_tup "
   ]
  }
 ],
 "metadata": {
  "kernelspec": {
   "display_name": "Python 3",
   "language": "python",
   "name": "python3"
  },
  "language_info": {
   "codemirror_mode": {
    "name": "ipython",
    "version": 3
   },
   "file_extension": ".py",
   "mimetype": "text/x-python",
   "name": "python",
   "nbconvert_exporter": "python",
   "pygments_lexer": "ipython3",
   "version": "3.9.6"
  }
 },
 "nbformat": 4,
 "nbformat_minor": 2
}
