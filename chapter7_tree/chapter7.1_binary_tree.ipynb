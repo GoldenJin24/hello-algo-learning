{
 "cells": [
  {
   "cell_type": "markdown",
   "metadata": {},
   "source": [
    "# 二叉树\n",
    "- 第一节定义有点多\n",
    "- binary tree，非线性数据结构，代表祖先和后代之间的派生关系，一分为二。\n",
    "- 基本单元是节点，包括值，左子节点引用，右子节点引用\n",
    "- 左子树，右子树"
   ]
  },
  {
   "cell_type": "code",
   "execution_count": 2,
   "metadata": {},
   "outputs": [],
   "source": [
    "class TreeNode():\n",
    "    def __init__(self,val):\n",
    "        self.val = val\n",
    "        self.left = None\n",
    "        self.right = None\n",
    "#和链表定义类似，定义节点，初始化，链接"
   ]
  },
  {
   "cell_type": "markdown",
   "metadata": {},
   "source": [
    "## 常见术语\n",
    "- 根节点，叶节点\n",
    "- 边（节点引用，指针）\n",
    "- 节点所在的层，从上到下，从1开始\n",
    "- 节点的度：其子节点的数量，二叉树中取值范围为0，1，2\n",
    "- 二叉树的高度：从根节点到最远叶节点所经过边的数量\n",
    "- 节点的高度：从距离该节点最远的叶节点到该节点所经过的边的数量\n",
    "- 节点的深度：从根节点到该节点所经过边的数量\n",
    "\n",
    "P.S.  在二叉树中，根节点到叶节点之间的边的数量可以看作是根节点到叶节点的“距离”。每个叶节点到根节点之间的边的数量可能不同，而边数量最多的叶节点，就是“最远叶节点”"
   ]
  },
  {
   "cell_type": "code",
   "execution_count": 3,
   "metadata": {},
   "outputs": [],
   "source": [
    "#1.初始化\n",
    "n1 = TreeNode(1)\n",
    "n2 = TreeNode(2)\n",
    "n3 = TreeNode(3)\n",
    "n4 = TreeNode(4)\n",
    "n5 = TreeNode(5)\n",
    "n6 = TreeNode(6)\n",
    "\n",
    "n1.left = n2\n",
    "n1.right = n3\n",
    "n2.left = n4\n",
    "n3.right = n5\n",
    "n5.right = n6"
   ]
  },
  {
   "cell_type": "code",
   "execution_count": 9,
   "metadata": {},
   "outputs": [],
   "source": [
    "#2.插入和删除 \n",
    "#其实不用太在意删除添加的顺序，因为每个节点都是知道的，不会丢失\n",
    "#插入会改变原有逻辑结构，删除会删掉一部分，因此二者通常由一套操作配合\n",
    "n7 = TreeNode(7)\n",
    "n7.right = n5\n",
    "n3.right = n7\n",
    "\n",
    "n5.right = None\n",
    "\n",
    "n3.right = n5.right"
   ]
  },
  {
   "cell_type": "markdown",
   "metadata": {},
   "source": [
    "## 常见的二叉树类型\n",
    "- 完美二叉树（满二叉树）\n",
    "  \n",
    "  每个节点都被填满，叶节点度为0，其余节点度为2；标准的指数级关系，例如细胞分裂\n",
    "- 完全二叉树\n",
    "\n",
    "  只有最底层的节点没有被填满，且最底层节点尽量靠左填充\n",
    "- 完满二叉树\n",
    "\n",
    "  除了叶子节点外，其余所有节点都有两个子节点\n",
    "- 平衡二叉树\n",
    "\n",
    "  任意节点的左子树和右子树的高度差的绝对值不小于1\n"
   ]
  },
  {
   "cell_type": "markdown",
   "metadata": {},
   "source": [
    "## 二叉树的退化\n",
    "- 如果每个节点左连接到下一个节点，则退化为链表，各项操作变为线性操作\n",
    "![alt text](image.png)"
   ]
  }
 ],
 "metadata": {
  "kernelspec": {
   "display_name": "Python 3",
   "language": "python",
   "name": "python3"
  },
  "language_info": {
   "codemirror_mode": {
    "name": "ipython",
    "version": 3
   },
   "file_extension": ".py",
   "mimetype": "text/x-python",
   "name": "python",
   "nbconvert_exporter": "python",
   "pygments_lexer": "ipython3",
   "version": "3.9.6"
  }
 },
 "nbformat": 4,
 "nbformat_minor": 2
}
