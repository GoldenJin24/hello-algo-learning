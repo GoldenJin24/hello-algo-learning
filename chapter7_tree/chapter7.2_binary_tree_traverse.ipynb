{
 "cells": [
  {
   "cell_type": "markdown",
   "metadata": {},
   "source": [
    "# 二叉树的遍历\n",
    "- 搜索算法：层序遍历，前序遍历，中序遍历，后序遍历"
   ]
  },
  {
   "cell_type": "code",
   "execution_count": null,
   "metadata": {},
   "outputs": [],
   "source": [
    "#1.层序遍历\n",
    "#本质上属于广度优先遍历\n",
    "from collections import deque\n",
    "class TreeNode():\n",
    "    def __init__(self,val):\n",
    "        self.val = val\n",
    "        self.left = None \n",
    "        self.right = None\n",
    "\n",
    "n1 = TreeNode(1)\n",
    "n2 = TreeNode(2)\n",
    "n3 = TreeNode(3)\n",
    "n4 = TreeNode(4)\n",
    "n5 = TreeNode(5)\n",
    "n6 = TreeNode(6)\n",
    "\n",
    "n1.left = n2\n",
    "n1.right = n3\n",
    "n2.left = n4\n",
    "n3.right = n5\n",
    "n5.right = n6\n",
    "\n",
    "#广度优先遍历通常借助“队列”来实现。队列遵循“先进先出”的规则，而广度优先遍历则遵循“逐层推进”的规则，两者背后的思想是一致的。\n",
    "def level_order(root):\n",
    "    queue = deque()\n",
    "    queue.append(root)\n",
    "    res = []\n",
    "    while queue:\n",
    "        #node实际上拿出的是自己，root根节点,并且由于已经popleft一次，导致此时queue实际上是空的\n",
    "        node = queue.popleft()\n",
    "        res.append(node.val)\n",
    "        #然后捏?此时queue是空的\n",
    "        if node.left is not None:\n",
    "            queue.append(node.left)\n",
    "        if node.right is not None:\n",
    "            queue.append(node.right)\n",
    "        #判断了左右节点，此时queue还是空的吗？请看VCR——while循环，即左右都非空（此时queue有两个node),左右一个为空（node有1个），都为空（结束while)\n",
    "    return res\n",
    "#太巧妙了，属于是能看懂，但是要我写，我肯定写不出来的地步"
   ]
  },
  {
   "cell_type": "markdown",
   "metadata": {},
   "source": [
    "- 2.前序、中序和后序遍历都属于深度优先遍历（depth-first traversal），也称深度优先搜索（depth-first search, DFS），\n",
    "它体现了一种“先走到尽头，再回溯继续”的遍历方式\n",
    "![alt text](image-1.png)\n"
   ]
  },
  {
   "cell_type": "code",
   "execution_count": 50,
   "metadata": {},
   "outputs": [
    {
     "ename": "TypeError",
     "evalue": "unsupported operand type(s) for |: 'type' and 'NoneType'",
     "output_type": "error",
     "traceback": [
      "\u001b[1;31m---------------------------------------------------------------------------\u001b[0m",
      "\u001b[1;31mTypeError\u001b[0m                                 Traceback (most recent call last)",
      "Cell \u001b[1;32mIn[50], line 1\u001b[0m\n\u001b[1;32m----> 1\u001b[0m \u001b[38;5;28;01mdef\u001b[39;00m \u001b[38;5;21mpre_order\u001b[39m(root: \u001b[43mTreeNode\u001b[49m\u001b[43m \u001b[49m\u001b[38;5;241;43m|\u001b[39;49m\u001b[43m \u001b[49m\u001b[38;5;28;43;01mNone\u001b[39;49;00m):\n\u001b[0;32m      2\u001b[0m \u001b[38;5;250m    \u001b[39m\u001b[38;5;124;03m\"\"\"前序遍历\"\"\"\u001b[39;00m\n\u001b[0;32m      3\u001b[0m     \u001b[38;5;28;01mif\u001b[39;00m root \u001b[38;5;129;01mis\u001b[39;00m \u001b[38;5;28;01mNone\u001b[39;00m:\n",
      "\u001b[1;31mTypeError\u001b[0m: unsupported operand type(s) for |: 'type' and 'NoneType'"
     ]
    }
   ],
   "source": [
    "#这真是递递又归归呀\n",
    "def pre_order(root: TreeNode | None):\n",
    "    \"\"\"前序遍历\"\"\"\n",
    "    if root is None:\n",
    "        return\n",
    "    # 访问优先级：根节点 -> 左子树 -> 右子树\n",
    "    res.append(root.val)\n",
    "    pre_order(root=root.left)\n",
    "    pre_order(root=root.right)\n",
    "\n",
    "def in_order(root: TreeNode | None):\n",
    "    \"\"\"中序遍历\"\"\"\n",
    "    if root is None:\n",
    "        return\n",
    "    # 访问优先级：左子树 -> 根节点 -> 右子树\n",
    "    in_order(root=root.left)\n",
    "    res.append(root.val)\n",
    "    in_order(root=root.right)\n",
    "\n",
    "def post_order(root: TreeNode | None):\n",
    "    \"\"\"后序遍历\"\"\"\n",
    "    if root is None:\n",
    "        return\n",
    "    # 访问优先级：左子树 -> 右子树 -> 根节点\n",
    "    post_order(root=root.left)\n",
    "    post_order(root=root.right)\n",
    "    res.append(root.val)"
   ]
  }
 ],
 "metadata": {
  "kernelspec": {
   "display_name": "Python 3",
   "language": "python",
   "name": "python3"
  },
  "language_info": {
   "codemirror_mode": {
    "name": "ipython",
    "version": 3
   },
   "file_extension": ".py",
   "mimetype": "text/x-python",
   "name": "python",
   "nbconvert_exporter": "python",
   "pygments_lexer": "ipython3",
   "version": "3.9.6"
  }
 },
 "nbformat": 4,
 "nbformat_minor": 2
}
