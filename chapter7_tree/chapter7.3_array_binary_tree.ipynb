{
 "cells": [
  {
   "cell_type": "markdown",
   "metadata": {},
   "source": [
    "# 二叉树数组表示\n",
    "- 不需要像数组实现hash table那样用pair表示key，value；用数组表示二叉树不用记住其索引或者key，直接对应即可\n",
    "- 完美二叉树有对应的公式，例如第i个节点其左子节点为2i+1.右子节点为2i+2  (root 为0)\n",
    "- 对于非完美二叉树，直接用None补全即可；完全二叉树的话，None全在末尾（容易压缩？）"
   ]
  },
  {
   "cell_type": "code",
   "execution_count": 1,
   "metadata": {},
   "outputs": [],
   "source": [
    "# 二叉树的数组表示\n",
    "# 使用 None 来表示空位\n",
    "tree = [1, 2, 3, 4, None, 6, 7, 8, 9, None, None, 12, None, None, 15]"
   ]
  },
  {
   "cell_type": "markdown",
   "metadata": {},
   "source": [
    "![alt text](image-2.png)"
   ]
  },
  {
   "cell_type": "code",
   "execution_count": 3,
   "metadata": {},
   "outputs": [
    {
     "ename": "TypeError",
     "evalue": "ArrayBinaryTree() takes 0 positional arguments but 1 was given",
     "output_type": "error",
     "traceback": [
      "\u001b[1;31m---------------------------------------------------------------------------\u001b[0m",
      "\u001b[1;31mTypeError\u001b[0m                                 Traceback (most recent call last)",
      "Cell \u001b[1;32mIn[3], line 14\u001b[0m\n\u001b[0;32m     11\u001b[0m     \u001b[38;5;28;01mdef\u001b[39;00m \u001b[38;5;21mget_nums\u001b[39m(\u001b[38;5;28mself\u001b[39m):\n\u001b[0;32m     12\u001b[0m         \u001b[38;5;28;01mreturn\u001b[39;00m \u001b[38;5;28mself\u001b[39m\u001b[38;5;241m.\u001b[39m_nums\n\u001b[1;32m---> 14\u001b[0m \u001b[38;5;28mprint\u001b[39m(\u001b[43mArrayBinaryTree\u001b[49m\u001b[43m(\u001b[49m\u001b[38;5;241;43m1\u001b[39;49m\u001b[43m)\u001b[49m)\n\u001b[0;32m     16\u001b[0m \u001b[38;5;66;03m#标准答案\u001b[39;00m\n",
      "\u001b[1;31mTypeError\u001b[0m: ArrayBinaryTree() takes 0 positional arguments but 1 was given"
     ]
    }
   ],
   "source": [
    "#代码实现\n",
    "#需要补齐吗\n",
    "import math\n",
    "def find_power_of_two(x):\n",
    "    n = math.ceil(math.log2(x))\n",
    "    return 2 ** n\n",
    "def ArrayBinaryTree():\n",
    "    def __init__(self,list1):\n",
    "        self._size = find_power_of_two(len(list1))\n",
    "        self._nums = list1 + [None]*( self._size - len(list1) )\n",
    "    def get_nums(self):\n",
    "        return self._nums\n",
    "    \n",
    "    def find(self,val):\n",
    "        for index,value in enumerate(self._nums):\n",
    "            if value == val:\n",
    "                return index\n",
    "        return None\n",
    "    def delete(self,val):\n",
    "        #左子树，右子树全部为None即可\n",
    "        index = find(val)\n",
    "\n",
    "    def find_son_tree(self,index):\n",
    "        res = []\n",
    "        if self._nums[index * 2 + 1] is None:\n",
    "            return self._nums[index] \n",
    "        res.append(index)\n",
    "        find_son_tree(self,index * 2 + 1)\n",
    "        find_son_tree(self,index * 2 + 2)\n",
    "\n",
    "print(ArrayBinaryTree())\n",
    "\n",
    "#标准答案\n",
    "class ArrayBinaryTree:\n",
    "    \"\"\"数组表示下的二叉树类\"\"\"\n",
    "\n",
    "    def __init__(self, arr: list[int | None]):\n",
    "        \"\"\"构造方法\"\"\"\n",
    "        self._tree = list(arr)\n",
    "\n",
    "    def size(self):\n",
    "        \"\"\"列表容量\"\"\"\n",
    "        return len(self._tree)\n",
    "\n",
    "    def val(self, i: int) -> int:\n",
    "        \"\"\"获取索引为 i 节点的值\"\"\"\n",
    "        # 若索引越界，则返回 None ，代表空位\n",
    "        if i < 0 or i >= self.size():\n",
    "            return None\n",
    "        return self._tree[i]\n",
    "\n",
    "    def left(self, i: int) -> int | None:\n",
    "        \"\"\"获取索引为 i 节点的左子节点的索引\"\"\"\n",
    "        return 2 * i + 1\n",
    "\n",
    "    def right(self, i: int) -> int | None:\n",
    "        \"\"\"获取索引为 i 节点的右子节点的索引\"\"\"\n",
    "        return 2 * i + 2\n",
    "\n",
    "    def parent(self, i: int) -> int | None:\n",
    "        \"\"\"获取索引为 i 节点的父节点的索引\"\"\"\n",
    "        return (i - 1) // 2\n",
    "\n",
    "    def level_order(self) -> list[int]:\n",
    "        \"\"\"层序遍历\"\"\"\n",
    "        self.res = []\n",
    "        # 直接遍历数组\n",
    "        for i in range(self.size()):\n",
    "            if self.val(i) is not None:\n",
    "                self.res.append(self.val(i))\n",
    "        return self.res\n",
    "\n",
    "    def dfs(self, i: int, order: str):\n",
    "        \"\"\"深度优先遍历\"\"\"\n",
    "        if self.val(i) is None:\n",
    "            return\n",
    "        # 前序遍历\n",
    "        if order == \"pre\":\n",
    "            self.res.append(self.val(i))\n",
    "        self.dfs(self.left(i), order)\n",
    "        # 中序遍历\n",
    "        if order == \"in\":\n",
    "            self.res.append(self.val(i))\n",
    "        self.dfs(self.right(i), order)\n",
    "        # 后序遍历\n",
    "        if order == \"post\":\n",
    "            self.res.append(self.val(i))\n",
    "    #很巧妙，调用pre_oreder从头开始遍历（不能直接用myArrayBinaryTree.dfs(),因为这样self.res没有先定义）\n",
    "    def pre_order(self) -> list[int]:\n",
    "        \"\"\"前序遍历\"\"\"\n",
    "        self.res = []\n",
    "        self.dfs(0, order=\"pre\")\n",
    "        return self.res\n",
    "\n",
    "    def in_order(self) -> list[int]:\n",
    "        \"\"\"中序遍历\"\"\"\n",
    "        self.res = []\n",
    "        self.dfs(0, order=\"in\")\n",
    "        return self.res\n",
    "\n",
    "    def post_order(self) -> list[int]:\n",
    "        \"\"\"后序遍历\"\"\"\n",
    "        self.res = []\n",
    "        self.dfs(0, order=\"post\")\n",
    "        return self.res"
   ]
  },
  {
   "cell_type": "markdown",
   "metadata": {},
   "source": [
    "## 优点和缺点\n",
    "二叉树的数组表示主要有以下优点。\n",
    "- 数组存储在连续的内存空间中，对缓存友好，访问与遍历速度较快。\n",
    "- 不需要存储指针，比较节省空间。\n",
    "- 允许随机访问节点。\n",
    "\n",
    "然而，数组表示也存在一些局限性。\n",
    "- 数组存储需要连续内存空间，因此不适合存储数据量过大的树。\n",
    "- 增删节点需要通过数组插入与删除操作实现，效率较低。\n",
    "- 当二叉树中存在大量 None 时，数组中包含的节点数据比重较低，空间利用率较低。"
   ]
  }
 ],
 "metadata": {
  "kernelspec": {
   "display_name": "Python 3",
   "language": "python",
   "name": "python3"
  },
  "language_info": {
   "codemirror_mode": {
    "name": "ipython",
    "version": 3
   },
   "file_extension": ".py",
   "mimetype": "text/x-python",
   "name": "python",
   "nbconvert_exporter": "python",
   "pygments_lexer": "ipython3",
   "version": "3.9.6"
  }
 },
 "nbformat": 4,
 "nbformat_minor": 2
}
