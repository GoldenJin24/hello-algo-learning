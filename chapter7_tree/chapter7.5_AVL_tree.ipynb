{
 "cells": [
  {
   "cell_type": "markdown",
   "metadata": {},
   "source": [
    "# AVL tree\n",
    "- 在需要频繁进行增删查改操作的场景中，AVL 树能始终保持高效的数据操作性能，具有很好的应用价值。\n",
    "- AVL 树既是二叉搜索树，也是平衡二叉树（任意节点的左子树和右子树的高度差的绝对值不小于1），同时满足这两类二叉树的所有性质，因此是一种平衡二叉搜索树（balanced binary search tree）。"
   ]
  },
  {
   "cell_type": "code",
   "execution_count": 1,
   "metadata": {},
   "outputs": [
    {
     "ename": "TypeError",
     "evalue": "unsupported operand type(s) for |: 'type' and 'NoneType'",
     "output_type": "error",
     "traceback": [
      "\u001b[1;31m---------------------------------------------------------------------------\u001b[0m",
      "\u001b[1;31mTypeError\u001b[0m                                 Traceback (most recent call last)",
      "Cell \u001b[1;32mIn[1], line 10\u001b[0m\n\u001b[0;32m      8\u001b[0m         \u001b[38;5;28mself\u001b[39m\u001b[38;5;241m.\u001b[39mright: TreeNode \u001b[38;5;241m|\u001b[39m \u001b[38;5;28;01mNone\u001b[39;00m \u001b[38;5;241m=\u001b[39m \u001b[38;5;28;01mNone\u001b[39;00m  \u001b[38;5;66;03m# 右子节点引用\u001b[39;00m\n\u001b[0;32m      9\u001b[0m \u001b[38;5;66;03m#0.两个工具函数\u001b[39;00m\n\u001b[1;32m---> 10\u001b[0m \u001b[38;5;28;01mdef\u001b[39;00m \u001b[38;5;21mheight\u001b[39m(\u001b[38;5;28mself\u001b[39m, node: \u001b[43mTreeNode\u001b[49m\u001b[43m \u001b[49m\u001b[38;5;241;43m|\u001b[39;49m\u001b[43m \u001b[49m\u001b[38;5;28;43;01mNone\u001b[39;49;00m) \u001b[38;5;241m-\u001b[39m\u001b[38;5;241m>\u001b[39m \u001b[38;5;28mint\u001b[39m:\n\u001b[0;32m     11\u001b[0m \u001b[38;5;250m    \u001b[39m\u001b[38;5;124;03m\"\"\"获取节点高度\"\"\"\u001b[39;00m\n\u001b[0;32m     12\u001b[0m     \u001b[38;5;66;03m# 空节点高度为 -1 ，叶节点高度为 0\u001b[39;00m\n",
      "\u001b[1;31mTypeError\u001b[0m: unsupported operand type(s) for |: 'type' and 'NoneType'"
     ]
    }
   ],
   "source": [
    "#0.预处理  需要有一个节点高度信息\n",
    "class TreeNode:\n",
    "    \"\"\"AVL 树节点类\"\"\"\n",
    "    def __init__(self, val: int):\n",
    "        self.val: int = val                 # 节点值\n",
    "        self.height: int = 0                # 节点高度\n",
    "        self.left: TreeNode | None = None   # 左子节点引用\n",
    "        self.right: TreeNode | None = None  # 右子节点引用\n",
    "\n",
    "#0.两个工具函数和高度有关\n",
    "def height(self, node: TreeNode | None) -> int:\n",
    "    \"\"\"获取节点高度\"\"\"\n",
    "    # 空节点高度为 -1 ，叶节点高度为 0\n",
    "    if node is not None:\n",
    "        return node.height\n",
    "    return -1\n",
    "\n",
    "def update_height(self, node: TreeNode | None):\n",
    "    \"\"\"更新节点高度\"\"\"\n",
    "    # 节点高度等于最高子树高度 + 1\n",
    "    node.height = max([self.height(node.left), self.height(node.right)]) + 1\n",
    "\n",
    "#0.平衡因子 = 左子树高度 - 右子树高度\n",
    "def balance_factor(self, node: TreeNode | None) -> int:\n",
    "    \"\"\"获取平衡因子\"\"\"\n",
    "    # 空节点平衡因子为 0\n",
    "    if node is None:\n",
    "        return 0\n",
    "    # 节点平衡因子 = 左子树高度 - 右子树高度\n",
    "    return self.height(node.left) - self.height(node.right)"
   ]
  },
  {
   "cell_type": "markdown",
   "metadata": {},
   "source": [
    "## 旋转操作\n",
    "- 旋转操作既能保持“二叉搜索树”的性质，也能使树重新变为“平衡二叉树”\n",
    "- 我们将平衡因子绝对值>1的节点称为“失衡节点”。\n",
    "- 根据节点失衡情况的不同，旋转操作分为四种：右旋、左旋、先右旋后左旋、先左旋后右旋"
   ]
  },
  {
   "cell_type": "code",
   "execution_count": null,
   "metadata": {},
   "outputs": [],
   "source": [
    "#1.1右旋\n",
    "#前提是二叉搜索树，但是不满足平衡二叉树\n",
    "#将非平衡节点视为根节点node1，找到其左子节点node2记为child，node1向右旋转变为child的右子节点，child占据node1的位置\n",
    "\n",
    "#当节点 child 有右子节点（记为 grand_child ）时，需要在右旋中添加一步：将 grand_child 作为 node 的左子节点。\n",
    "#因为根节点node1肯定比其子节点大，所以child的右节点肯定是node1，然后node1的左节点是grand child\n",
    "\n",
    "#二者可以合一\n",
    "def right_rotate(self, node: TreeNode | None) -> TreeNode | None:\n",
    "    \"\"\"右旋操作\"\"\"\n",
    "    child = node.left\n",
    "    grand_child = child.right\n",
    "    # 以 child 为原点，将 node 向右旋转\n",
    "    child.right = node\n",
    "    node.left = grand_child\n",
    "    # 更新节点高度\n",
    "    self.update_height(node)\n",
    "    self.update_height(child)\n",
    "    # 返回旋转后子树的根节点\n",
    "    return child"
   ]
  },
  {
   "cell_type": "markdown",
   "metadata": {},
   "source": [
    "## 具体旋转的情况\n",
    "![alt text](image-5.png)\n",
    "\n",
    "- 可以用平衡因子来分类\n",
    "\n",
    "![alt text](image-6.png)"
   ]
  },
  {
   "cell_type": "code",
   "execution_count": null,
   "metadata": {},
   "outputs": [],
   "source": [
    "#旋转相关代码\n",
    "def rotate(self, node: TreeNode | None) -> TreeNode | None:\n",
    "    \"\"\"执行旋转操作，使该子树重新恢复平衡\"\"\"\n",
    "    # 获取节点 node 的平衡因子\n",
    "    balance_factor = self.balance_factor(node)\n",
    "    # 左偏树\n",
    "    if balance_factor > 1:\n",
    "        if self.balance_factor(node.left) >= 0:\n",
    "            # 右旋\n",
    "            return self.right_rotate(node)\n",
    "        else:\n",
    "            # 先左旋后右旋\n",
    "            node.left = self.left_rotate(node.left)\n",
    "            return self.right_rotate(node)\n",
    "    # 右偏树\n",
    "    elif balance_factor < -1:\n",
    "        if self.balance_factor(node.right) <= 0:\n",
    "            # 左旋\n",
    "            return self.left_rotate(node)\n",
    "        else:\n",
    "            # 先右旋后左旋\n",
    "            node.right = self.right_rotate(node.right)\n",
    "            return self.left_rotate(node)\n",
    "    # 平衡树，无须旋转，直接返回\n",
    "    return node"
   ]
  },
  {
   "cell_type": "markdown",
   "metadata": {},
   "source": [
    "- 插入，删除需要自下而上旋转保持结构不变\n",
    "- 查找比较简单"
   ]
  },
  {
   "cell_type": "markdown",
   "metadata": {},
   "source": [
    "## AVL 树典型应用\n",
    "\n",
    "- 组织和存储大型数据，适用于高频查找、低频增删的场景。\n",
    "- 用于构建数据库中的索引系统。\n",
    "- 红黑树也是一种常见的平衡二叉搜索树。相较于 AVL 树，红黑树的平衡条件更宽松，插入与删除节点所需的旋转操作更少，节点增删操作的平均效率更高。"
   ]
  }
 ],
 "metadata": {
  "kernelspec": {
   "display_name": "Python 3",
   "language": "python",
   "name": "python3"
  },
  "language_info": {
   "codemirror_mode": {
    "name": "ipython",
    "version": 3
   },
   "file_extension": ".py",
   "mimetype": "text/x-python",
   "name": "python",
   "nbconvert_exporter": "python",
   "pygments_lexer": "ipython3",
   "version": "3.9.6"
  }
 },
 "nbformat": 4,
 "nbformat_minor": 2
}
