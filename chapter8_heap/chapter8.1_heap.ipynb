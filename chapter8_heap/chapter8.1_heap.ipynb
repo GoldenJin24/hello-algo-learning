{
 "cells": [
  {
   "cell_type": "markdown",
   "metadata": {},
   "source": [
    "# 堆\n",
    "- 满足特定条件的完全二叉树（除了叶子节点外，其余每个节点都有两个子节点，且叶子节点靠左排布）\n",
    "- 包含两类（小顶堆，大顶堆），一个是节点的值≤子节点的值，一个是节点的值≥子节点的值，根节点最小或者根节点最大\n",
    "- 编程语言提供的是用优先队列priority queue，但是堆是用来实现优先队列的，所以以下将二者看作等价的\n",
    "- 常见的操作：入堆push，堆顶出堆pop，访问堆顶元素peek，获取元素数量size，判断是否为空isEmpty"
   ]
  },
  {
   "cell_type": "code",
   "execution_count": 2,
   "metadata": {},
   "outputs": [
    {
     "name": "stdout",
     "output_type": "stream",
     "text": [
      "[-1]\n",
      "[-3, -1]\n",
      "[-3, -1, -2]\n",
      "[-5, -3, -2, -1]\n",
      "[-5, -4, -2, -1, -3]\n",
      "peek -100\n"
     ]
    }
   ],
   "source": [
    "#0.初始化\n",
    "min_heap = []\n",
    "flag = 1\n",
    "max_heap = []\n",
    "flag = -1 #-1表示max，1表示min\n",
    "\n",
    "#python的heapq模块默认实现的是小顶堆\n",
    "#进一步初始化,入堆\n",
    "import heapq\n",
    "#变量写到函数里面，而不是先实例化一个变量（很奇怪）,即直接在原始变量中操作\n",
    "#直接print其实看不出先后大小顺序\n",
    "heapq.heappush(max_heap, flag * 1)\n",
    "print(max_heap)\n",
    "heapq.heappush(max_heap, flag * 3)\n",
    "print(max_heap)\n",
    "heapq.heappush(max_heap, flag * 2)\n",
    "print(max_heap)\n",
    "heapq.heappush(max_heap, flag * 5)\n",
    "print(max_heap)\n",
    "heapq.heappush(max_heap, flag * 4)\n",
    "print(max_heap)\n",
    "\n",
    "#获取堆顶元素，要么是max，要么是min\n",
    "flag * max_heap[0]\n",
    "\n",
    "#出堆\n",
    "val = flag * heapq.heappop(max_heap) # 5\n",
    "val = flag * heapq.heappop(max_heap) # 4\n",
    "val = flag * heapq.heappop(max_heap) # 3\n",
    "val = flag * heapq.heappop(max_heap) # 2\n",
    "val = flag * heapq.heappop(max_heap) # 1\n",
    "\n",
    "# 获取堆大小\n",
    "size: int = len(max_heap)\n",
    "\n",
    "# 判断堆是否为空\n",
    "is_empty: bool = not max_heap\n",
    "\n",
    "# 输入列表并建堆\n",
    "min_heap = [1, 3, 2, 5, 4,-100,10000]\n",
    "heapq.heapify(min_heap) \n",
    "print('peek',min_heap[0])"
   ]
  },
  {
   "cell_type": "code",
   "execution_count": 34,
   "metadata": {},
   "outputs": [
    {
     "data": {
      "text/plain": [
       "[100, 1, 2, 3, 4, 5]"
      ]
     },
     "execution_count": 34,
     "metadata": {},
     "output_type": "execute_result"
    }
   ],
   "source": [
    "[100] + [1,2,3,4,5]"
   ]
  },
  {
   "cell_type": "code",
   "execution_count": 26,
   "metadata": {},
   "outputs": [],
   "source": [
    "#1.堆的实现\n",
    "#用数组存储\n",
    "\n",
    "\n",
    "\n",
    "class MaxHeap():\n",
    "    def __init__(self,nums):\n",
    "        self.max_heap = nums\n",
    "\n",
    "    def left(self, i: int) -> int:\n",
    "    \"\"\"获取左子节点的索引\"\"\"\n",
    "    return 2 * i + 1\n",
    "    def right(self, i: int) -> int:\n",
    "    \"\"\"获取右子节点的索引\"\"\"\n",
    "    return 2 * i + 2\n",
    "    def parent(self, i: int) -> int:\n",
    "    \"\"\"获取父节点的索引\"\"\"\n",
    "    return (i - 1) // 2  # 向下整除\n",
    "\n",
    "    def size(self):\n",
    "        return len(self.max_heap)\n",
    "    def is_empty(self):\n",
    "        return self.size() == 0\n",
    "    #访问堆顶那个极值是简单的\n",
    "    def peek(self):\n",
    "        return self.max_heap[0]\n",
    "\n",
    "    #入堆有难度,先添加到堆底，然后堆化修复\n",
    "    def push(self, val: int):\n",
    "        \"\"\"元素入堆\"\"\"\n",
    "        # 添加节点\n",
    "        self.max_heap.append(val)\n",
    "        # 从底至顶堆化\n",
    "        self.sift_up(self.size() - 1)\n",
    "\n",
    "    def sift_up(self, i: int):\n",
    "        \"\"\"从节点 i 开始，从底至顶堆化\"\"\"\n",
    "        while True:\n",
    "            # 获取节点 i 的父节点\n",
    "            p = self.parent(i)\n",
    "            # 当“越过根节点”或“节点无须修复”时，结束堆化\n",
    "            if p < 0 or self.max_heap[i] <= self.max_heap[p]:\n",
    "                break\n",
    "            # 交换两节点\n",
    "            self.swap(i, p)\n",
    "            # 循环向上堆化\n",
    "            i = p\n",
    "    #出堆也有难度,直接去掉根节点会导致所有节点都需要修复，所有先将根节点和最右叶节点交换，然后从上到下堆化修复\n",
    "    def pop(self) -> int:\n",
    "    \"\"\"元素出堆\"\"\"\n",
    "    # 判空处理\n",
    "    if self.is_empty():\n",
    "        raise IndexError(\"堆为空\")\n",
    "    # 交换根节点与最右叶节点（交换首元素与尾元素）\n",
    "    self.swap(0, self.size() - 1)\n",
    "    # 删除节点\n",
    "    val = self.max_heap.pop()\n",
    "    # 从顶至底堆化\n",
    "    self.sift_down(0)\n",
    "    # 返回堆顶元素\n",
    "    return val\n",
    "\n",
    "    def sift_down(self, i: int):\n",
    "        \"\"\"从节点 i 开始，从顶至底堆化\"\"\"\n",
    "        while True:\n",
    "            # 判断节点 i, l, r 中值最大的节点，记为 ma\n",
    "            l, r, ma = self.left(i), self.right(i), i\n",
    "            if l < self.size() and self.max_heap[l] > self.max_heap[ma]:\n",
    "                ma = l\n",
    "            if r < self.size() and self.max_heap[r] > self.max_heap[ma]:\n",
    "                ma = r\n",
    "            # 若节点 i 最大或索引 l, r 越界，则无须继续堆化，跳出\n",
    "            if ma == i:\n",
    "                break\n",
    "            # 交换两节点\n",
    "            self.swap(i, ma)\n",
    "            # 循环向下堆化\n",
    "            i = ma\n",
    "\n",
    "#要求输入的列表已经是一个合法的堆\n",
    "#如果不是的话，init里面遍历调整顺序？这就是下一节的建堆操作\n",
    "max_heap = MaxHeap([9,8,6,6,7,5,2,1,4,3])\n"
   ]
  },
  {
   "cell_type": "markdown",
   "metadata": {},
   "source": [
    "## 堆的常见应用\n",
    "- 优先队列：堆通常作为实现优先队列的首选数据结构，其入队和出队操作的时间复杂度均为 O（logn），而建队操作为O（n），这些操作都非常高效。\n",
    "- 堆排序：给定一组数据，我们可以用它们建立一个堆，然后不断地执行元素出堆操作，从而得到有序数据。然而，我们通常会使用一种更优雅的方式实现堆排序，详见“堆排序”章节。\n",
    "- 获取最大的k个元素：这是一个经典的算法问题，同时也是一种典型应用，例如选择热度前 10 的新闻作为微博热搜，选取销量前 10 的商品等。"
   ]
  }
 ],
 "metadata": {
  "kernelspec": {
   "display_name": "Python 3",
   "language": "python",
   "name": "python3"
  },
  "language_info": {
   "codemirror_mode": {
    "name": "ipython",
    "version": 3
   },
   "file_extension": ".py",
   "mimetype": "text/x-python",
   "name": "python",
   "nbconvert_exporter": "python",
   "pygments_lexer": "ipython3",
   "version": "3.9.6"
  }
 },
 "nbformat": 4,
 "nbformat_minor": 2
}
