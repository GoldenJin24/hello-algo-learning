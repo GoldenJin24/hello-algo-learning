{
 "cells": [
  {
   "cell_type": "markdown",
   "metadata": {},
   "source": [
    "# 建堆操作\n",
    "- 在某些情况下，我们希望使用一个列表的所有元素来构建一个堆，这个过程被称为“建堆操作”。\n",
    "- 第一种方法借助入堆，先初始化一个空堆，然后每一个元素一个一个加进去，同时自下而上堆化修复\n",
    "- 第二种方法遍历列表，直接把输入copy一下，然后倒序遍历，每一次堆化修复就是形成了一个好结构的子树，遍历全部即可\n",
    "- 一般来说叶节点的数量远远大于非叶节点的数量\n",
    "- 建堆的复杂度一般为O(n)，非常高效"
   ]
  },
  {
   "cell_type": "code",
   "execution_count": null,
   "metadata": {},
   "outputs": [],
   "source": [
    "#第二种遍历列表 建堆的操作，每当堆化一个节点后，以该节点为根节点的子树就形成一个合法的子堆。\n",
    "def __init__(self, nums: list[int]):\n",
    "    \"\"\"构造方法，根据输入列表建堆\"\"\"\n",
    "    # 将列表元素原封不动添加进堆\n",
    "    self.max_heap = nums\n",
    "    # 堆化除叶节点以外的其他所有节点\n",
    "    #例如size = 10 ，则循环为[9,8,7,6,5,4,3,2,1,0]\n",
    "    for i in range(self.parent(self.size() - 1), -1, -1):\n",
    "        self.sift_down(i)"
   ]
  }
 ],
 "metadata": {
  "kernelspec": {
   "display_name": "Python 3",
   "language": "python",
   "name": "python3"
  },
  "language_info": {
   "codemirror_mode": {
    "name": "ipython",
    "version": 3
   },
   "file_extension": ".py",
   "mimetype": "text/x-python",
   "name": "python",
   "nbconvert_exporter": "python",
   "pygments_lexer": "ipython3",
   "version": "3.9.6"
  }
 },
 "nbformat": 4,
 "nbformat_minor": 2
}
