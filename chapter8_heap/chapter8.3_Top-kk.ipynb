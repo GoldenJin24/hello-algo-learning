{
 "cells": [
  {
   "cell_type": "markdown",
   "metadata": {},
   "source": [
    "# Top-k问题\n",
    "- 给定一个无序数组，返回其中最大的k个值"
   ]
  },
  {
   "cell_type": "code",
   "execution_count": 10,
   "metadata": {},
   "outputs": [
    {
     "name": "stdout",
     "output_type": "stream",
     "text": [
      "1\n",
      "2\n",
      "3\n",
      "4\n",
      "5\n",
      "6\n",
      "7\n",
      "8\n",
      "9\n"
     ]
    }
   ],
   "source": [
    "for x in range(1,10):\n",
    "    print(x)"
   ]
  },
  {
   "cell_type": "code",
   "execution_count": 19,
   "metadata": {},
   "outputs": [
    {
     "name": "stdout",
     "output_type": "stream",
     "text": [
      "[10, 10]\n"
     ]
    }
   ],
   "source": [
    "#方法一：遍历选择，每一次找出最大的（如果k=n，就是大小的排序，即选择排序）\n",
    "def Traverse(nums,k):\n",
    "    res = []\n",
    "    for i in range(k):\n",
    "        flag = nums[0]\n",
    "        for j in range(k,len(nums)):\n",
    "            if nums[j] > flag and nums[j] not in res:\n",
    "                tmp = nums[j]\n",
    "                flag = tmp\n",
    "        res.append(tmp)\n",
    "    return res\n",
    "\n",
    "#Traverse([1,10,5,3,4],2)\n",
    "\n",
    "#GPT\n",
    "def Traverse(nums, k):\n",
    "    res = []\n",
    "    for i in range(k):\n",
    "        max_num = float('-inf')\n",
    "        max_index = -1\n",
    "        for j in range(len(nums)):\n",
    "            if nums[j] > max_num and j not in res:\n",
    "                max_num = nums[j]\n",
    "                max_index = j\n",
    "        res.append(max_num)\n",
    "    return res\n",
    "\n",
    "print(Traverse([1, 10, 5, 3, 4], 2))\n"
   ]
  },
  {
   "cell_type": "code",
   "execution_count": null,
   "metadata": {},
   "outputs": [],
   "source": [
    "#方法二：排序，然后返回最后几个（超额完成任务）"
   ]
  },
  {
   "cell_type": "code",
   "execution_count": 28,
   "metadata": {},
   "outputs": [
    {
     "data": {
      "text/plain": [
       "[6, 10]"
      ]
     },
     "execution_count": 28,
     "metadata": {},
     "output_type": "execute_result"
    }
   ],
   "source": [
    "#方法三：堆排序\n",
    "#初始化一个小顶堆，其堆顶元素最小。\n",
    "#先将数组的前k个元素依次入堆。\n",
    "#从第k+1个元素开始，若当前元素大于堆顶元素，则将堆顶元素出堆，并将当前元素入堆。\n",
    "#遍历完成后，堆中保存的就是最大的k个元素。返回值就是堆顶\n",
    "\n",
    "#为什么选小顶堆不选大顶堆，因为大顶堆在后面k+1，k+2，k+3的更新过程中，如果遇到比顶堆小的数，必须要继续往下走取进行判断，有一个logn的查询过程\n",
    "import heapq\n",
    "def HeapSortTopK(nums,k):\n",
    "        min_heap = []\n",
    "        #list -> heaq\n",
    "        for i in range(k):\n",
    "            heapq.heappush(min_heap, nums[i])\n",
    "        for i in range(k,len(nums)):\n",
    "            if nums[i] > min_heap[0]:\n",
    "                heapq.heappop(min_heap)\n",
    "                heapq.heappush(min_heap, nums[i])\n",
    "        return min_heap\n",
    "HeapSortTopK([1,2,3,6,10,-1,-5],2)\n",
    "        \n",
    "#standard answer\n",
    "def top_k_heap(nums: list[int], k: int) -> list[int]:\n",
    "    \"\"\"基于堆查找数组中最大的 k 个元素\"\"\"\n",
    "    # 初始化小顶堆\n",
    "    heap = []\n",
    "    # 将数组的前 k 个元素入堆\n",
    "    for i in range(k):\n",
    "        heapq.heappush(heap, nums[i])\n",
    "    # 从第 k+1 个元素开始，保持堆的长度为 k\n",
    "    for i in range(k, len(nums)):\n",
    "        # 若当前元素大于堆顶元素，则将堆顶元素出堆、当前元素入堆\n",
    "        if nums[i] > heap[0]:\n",
    "            heapq.heappop(heap)\n",
    "            heapq.heappush(heap, nums[i])\n",
    "    return heap"
   ]
  }
 ],
 "metadata": {
  "kernelspec": {
   "display_name": "Python 3",
   "language": "python",
   "name": "python3"
  },
  "language_info": {
   "codemirror_mode": {
    "name": "ipython",
    "version": 3
   },
   "file_extension": ".py",
   "mimetype": "text/x-python",
   "name": "python",
   "nbconvert_exporter": "python",
   "pygments_lexer": "ipython3",
   "version": "3.9.6"
  }
 },
 "nbformat": 4,
 "nbformat_minor": 2
}
